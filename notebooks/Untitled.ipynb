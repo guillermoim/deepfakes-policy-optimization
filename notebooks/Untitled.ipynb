{
 "cells": [
  {
   "cell_type": "code",
   "execution_count": 9,
   "metadata": {},
   "outputs": [],
   "source": [
    "import pandas as pd"
   ]
  },
  {
   "cell_type": "code",
   "execution_count": 10,
   "metadata": {},
   "outputs": [],
   "source": [
    "df = pd.read_csv('outputs/test.csv')"
   ]
  },
  {
   "cell_type": "code",
   "execution_count": 18,
   "metadata": {},
   "outputs": [],
   "source": [
    "df['predicted'] = (df['fake_prob'] > 0.5).astype('int')"
   ]
  },
  {
   "cell_type": "code",
   "execution_count": 21,
   "metadata": {},
   "outputs": [],
   "source": [
    "df['correct'] = df['label'] == df['predicted']"
   ]
  },
  {
   "cell_type": "code",
   "execution_count": 35,
   "metadata": {},
   "outputs": [
    {
     "data": {
      "text/html": [
       "<div>\n",
       "<style scoped>\n",
       "    .dataframe tbody tr th:only-of-type {\n",
       "        vertical-align: middle;\n",
       "    }\n",
       "\n",
       "    .dataframe tbody tr th {\n",
       "        vertical-align: top;\n",
       "    }\n",
       "\n",
       "    .dataframe thead th {\n",
       "        text-align: right;\n",
       "    }\n",
       "</style>\n",
       "<table border=\"1\" class=\"dataframe\">\n",
       "  <thead>\n",
       "    <tr style=\"text-align: right;\">\n",
       "      <th></th>\n",
       "      <th>img_name</th>\n",
       "      <th>label</th>\n",
       "      <th>score_fake</th>\n",
       "      <th>loss</th>\n",
       "      <th>fake_prob</th>\n",
       "      <th>predicted</th>\n",
       "      <th>error</th>\n",
       "      <th>correct</th>\n",
       "    </tr>\n",
       "  </thead>\n",
       "  <tbody>\n",
       "    <tr>\n",
       "      <th>0</th>\n",
       "      <td>nhxuxwpinw/100_0.png</td>\n",
       "      <td>1.0</td>\n",
       "      <td>0.416384</td>\n",
       "      <td>[0.5064725279808044]</td>\n",
       "      <td>0.602618</td>\n",
       "      <td>1</td>\n",
       "      <td>0.0</td>\n",
       "      <td>True</td>\n",
       "    </tr>\n",
       "    <tr>\n",
       "      <th>1</th>\n",
       "      <td>vdnsbjfqkq/100_0.png</td>\n",
       "      <td>1.0</td>\n",
       "      <td>-0.386428</td>\n",
       "      <td>[0.9049118757247925]</td>\n",
       "      <td>0.404578</td>\n",
       "      <td>0</td>\n",
       "      <td>1.0</td>\n",
       "      <td>False</td>\n",
       "    </tr>\n",
       "    <tr>\n",
       "      <th>2</th>\n",
       "      <td>jaxslvzthe/200_0.png</td>\n",
       "      <td>1.0</td>\n",
       "      <td>0.497543</td>\n",
       "      <td>[0.47500544786453247]</td>\n",
       "      <td>0.621882</td>\n",
       "      <td>1</td>\n",
       "      <td>0.0</td>\n",
       "      <td>True</td>\n",
       "    </tr>\n",
       "    <tr>\n",
       "      <th>3</th>\n",
       "      <td>rkzhwkvytv/20_0.png</td>\n",
       "      <td>1.0</td>\n",
       "      <td>-0.119147</td>\n",
       "      <td>[0.7544942498207092]</td>\n",
       "      <td>0.470248</td>\n",
       "      <td>0</td>\n",
       "      <td>1.0</td>\n",
       "      <td>False</td>\n",
       "    </tr>\n",
       "    <tr>\n",
       "      <th>4</th>\n",
       "      <td>eqpakjgyae/80_0.png</td>\n",
       "      <td>1.0</td>\n",
       "      <td>-0.021315</td>\n",
       "      <td>[0.7038615345954895]</td>\n",
       "      <td>0.494671</td>\n",
       "      <td>0</td>\n",
       "      <td>1.0</td>\n",
       "      <td>False</td>\n",
       "    </tr>\n",
       "    <tr>\n",
       "      <th>5</th>\n",
       "      <td>hhddxuhorq/40_0.png</td>\n",
       "      <td>1.0</td>\n",
       "      <td>-0.174651</td>\n",
       "      <td>[0.7842807769775391]</td>\n",
       "      <td>0.456448</td>\n",
       "      <td>0</td>\n",
       "      <td>1.0</td>\n",
       "      <td>False</td>\n",
       "    </tr>\n",
       "    <tr>\n",
       "      <th>6</th>\n",
       "      <td>skrwnpzxfz/260_0.png</td>\n",
       "      <td>1.0</td>\n",
       "      <td>-0.258763</td>\n",
       "      <td>[0.8308749794960022]</td>\n",
       "      <td>0.435668</td>\n",
       "      <td>0</td>\n",
       "      <td>1.0</td>\n",
       "      <td>False</td>\n",
       "    </tr>\n",
       "    <tr>\n",
       "      <th>7</th>\n",
       "      <td>qsuinwnjjb/0_0.png</td>\n",
       "      <td>0.0</td>\n",
       "      <td>-0.501977</td>\n",
       "      <td>[0.47333112359046936]</td>\n",
       "      <td>0.377076</td>\n",
       "      <td>0</td>\n",
       "      <td>0.0</td>\n",
       "      <td>True</td>\n",
       "    </tr>\n",
       "    <tr>\n",
       "      <th>8</th>\n",
       "      <td>vxuhkqqaqv/20_0.png</td>\n",
       "      <td>1.0</td>\n",
       "      <td>0.851150</td>\n",
       "      <td>[0.35552072525024414]</td>\n",
       "      <td>0.700808</td>\n",
       "      <td>1</td>\n",
       "      <td>0.0</td>\n",
       "      <td>True</td>\n",
       "    </tr>\n",
       "    <tr>\n",
       "      <th>9</th>\n",
       "      <td>rhvcubgvpi/220_0.png</td>\n",
       "      <td>1.0</td>\n",
       "      <td>-0.333872</td>\n",
       "      <td>[0.8739525079727173]</td>\n",
       "      <td>0.417299</td>\n",
       "      <td>0</td>\n",
       "      <td>1.0</td>\n",
       "      <td>False</td>\n",
       "    </tr>\n",
       "  </tbody>\n",
       "</table>\n",
       "</div>"
      ],
      "text/plain": [
       "               img_name  label  score_fake                   loss  fake_prob  \\\n",
       "0  nhxuxwpinw/100_0.png    1.0    0.416384   [0.5064725279808044]   0.602618   \n",
       "1  vdnsbjfqkq/100_0.png    1.0   -0.386428   [0.9049118757247925]   0.404578   \n",
       "2  jaxslvzthe/200_0.png    1.0    0.497543  [0.47500544786453247]   0.621882   \n",
       "3   rkzhwkvytv/20_0.png    1.0   -0.119147   [0.7544942498207092]   0.470248   \n",
       "4   eqpakjgyae/80_0.png    1.0   -0.021315   [0.7038615345954895]   0.494671   \n",
       "5   hhddxuhorq/40_0.png    1.0   -0.174651   [0.7842807769775391]   0.456448   \n",
       "6  skrwnpzxfz/260_0.png    1.0   -0.258763   [0.8308749794960022]   0.435668   \n",
       "7    qsuinwnjjb/0_0.png    0.0   -0.501977  [0.47333112359046936]   0.377076   \n",
       "8   vxuhkqqaqv/20_0.png    1.0    0.851150  [0.35552072525024414]   0.700808   \n",
       "9  rhvcubgvpi/220_0.png    1.0   -0.333872   [0.8739525079727173]   0.417299   \n",
       "\n",
       "   predicted  error  correct  \n",
       "0          1    0.0     True  \n",
       "1          0    1.0    False  \n",
       "2          1    0.0     True  \n",
       "3          0    1.0    False  \n",
       "4          0    1.0    False  \n",
       "5          0    1.0    False  \n",
       "6          0    1.0    False  \n",
       "7          0    0.0     True  \n",
       "8          1    0.0     True  \n",
       "9          0    1.0    False  "
      ]
     },
     "execution_count": 35,
     "metadata": {},
     "output_type": "execute_result"
    }
   ],
   "source": [
    "df.head(10)"
   ]
  },
  {
   "cell_type": "code",
   "execution_count": 44,
   "metadata": {},
   "outputs": [
    {
     "data": {
      "text/plain": [
       "0.4392867426183772"
      ]
     },
     "execution_count": 44,
     "metadata": {},
     "output_type": "execute_result"
    }
   ],
   "source": [
    "reals.fake_prob.mean()"
   ]
  }
 ],
 "metadata": {
  "kernelspec": {
   "display_name": "Python 3",
   "language": "python",
   "name": "python3"
  },
  "language_info": {
   "codemirror_mode": {
    "name": "ipython",
    "version": 3
   },
   "file_extension": ".py",
   "mimetype": "text/x-python",
   "name": "python",
   "nbconvert_exporter": "python",
   "pygments_lexer": "ipython3",
   "version": "3.6.9"
  }
 },
 "nbformat": 4,
 "nbformat_minor": 4
}
